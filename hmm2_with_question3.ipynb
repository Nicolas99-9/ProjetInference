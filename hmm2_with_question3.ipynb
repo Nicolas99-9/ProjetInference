{
 "cells": [
  {
   "cell_type": "code",
   "execution_count": 15,
   "metadata": {
    "collapsed": true
   },
   "outputs": [],
   "source": [
    "import numpy as np\n",
    "import nltk\n",
    "import sys\n",
    "import operator"
   ]
  },
  {
   "cell_type": "code",
   "execution_count": 18,
   "metadata": {
    "collapsed": true
   },
   "outputs": [],
   "source": [
    "UNK = \"<unk>\"  # token to map all out-of-vocabulary words (OOVs)\n",
    "UNKid = 0      # index for UNK\n",
    "epsilon=1e-100\n",
    "special = \"<s>\"\n",
    "smoothing_trans = 1e-2\n",
    "smoothing_trans_2 = 1e-5"
   ]
  },
  {
   "cell_type": "code",
   "execution_count": 198,
   "metadata": {
    "collapsed": false
   },
   "outputs": [],
   "source": [
    "class HMM:\n",
    "        def __init__(self, state_list, observation_list,\n",
    "                 transition_proba = None,\n",
    "                 observation_proba = None,\n",
    "                 initial_state_proba = None,\n",
    "                    transition_proba_2 = None,smoothing_obs = 0.01):\n",
    "            self.N = len(state_list)       # number of states\n",
    "            self.M = len(observation_list) # number of possible emissions\n",
    "            #utile pour calcule la proba d un elelement en conaissant la classe observation_list\n",
    "            \n",
    "            self.omega_Y = state_list\n",
    "            self.omega_X = observation_list\n",
    "            #caractere special\n",
    "            self.omega_Y.append(\"@\")\n",
    "            \n",
    "            if transition_proba is None:\n",
    "                self.transition_proba = np.zeros( (self.N+1, self.N+1,self.N), float) \n",
    "            else:\n",
    "                self.transition_proba=transition_proba\n",
    "            #observations\n",
    "            if observation_proba is None:\n",
    "                self.observation_proba = np.zeros( (self.M, self.N), float) \n",
    "            else:\n",
    "                self.observation_proba=observation_proba\n",
    "            self.make_indexes() # build indexes, i.e the mapping between token and int\n",
    "            self.smoothing_obs = smoothing_obs \n",
    "            \n",
    "        def make_indexes(self):\n",
    "            \"\"\"Creates the reverse table that maps states/observations names\n",
    "            to their index in the probabilities array\"\"\"\n",
    "            self.Y_index = {}\n",
    "            for i in range(self.N+1):\n",
    "                self.Y_index[self.omega_Y[i]] =i\n",
    "                \n",
    "            #index des x\n",
    "            self.X_index = {}\n",
    "            for i in range(self.M):\n",
    "                self.X_index[self.omega_X[i]] = i\n",
    "      \n",
    "        def get_observationIndices( self, observations ):\n",
    "            indices = zeros( len(observations), int )\n",
    "            k = 0\n",
    "            for o in observations:\n",
    "                if o in self.X_index:\n",
    "                    indices[k] = self.X_index[o]\n",
    "                else:\n",
    "                    indices[k] = UNKid\n",
    "                k += 1\n",
    "            return indices\n",
    "\n",
    "    \n",
    "        def data2indices(self, sent): \n",
    "\n",
    "            wordids = list()\n",
    "            tagids  = list()\n",
    "            for couple in sent:\n",
    "                wrd = couple[0]\n",
    "                tag = couple[1]\n",
    "                if wrd in self.X_index:\n",
    "                    wordids.append(self.X_index[wrd])\n",
    "                else:\n",
    "                    wordids.append(UNKid)\n",
    "                tagids.append(self.Y_index[tag])\n",
    "            return wordids,tagids\n",
    "            \n",
    "        def observation_estimation(self, pair_counts):\n",
    "            # fill with counts\n",
    "            for pair in pair_counts:\n",
    "                wrd=pair[0]\n",
    "                tag=pair[1]\n",
    "                cpt=pair_counts[pair]\n",
    "                k = 0 # for <unk>\n",
    "                if wrd in self.X_index: \n",
    "                    k=self.X_index[wrd]\n",
    "                i = self.Y_index[tag]\n",
    "                self.observation_proba[k,i]=cpt\n",
    "            # normalize\n",
    "            self.observation_proba=self.observation_proba+self.smoothing_obs\n",
    "            self.observation_proba=self.observation_proba/self.observation_proba.sum(axis=0).reshape(1,self.N)\n",
    "            \n",
    "        \n",
    "        def transition_estimation(self, trans_counts,trans_count_bi):\n",
    "            self.indices_backs = {}\n",
    "            for pair in trans_counts:\n",
    "                i=self.Y_index[pair[1]]\n",
    "                j=self.Y_index[pair[0][0]]\n",
    "                k=self.Y_index[pair[0][1]]\n",
    "                self.transition_proba[j,k,i]=float(trans_counts[pair])/float(trans_count_bi[pair[0]])\n",
    "\n",
    "        def init_estimation(self, init_counts,init_counts2):\n",
    "            indice_empty = self.Y_index[\"@\"]\n",
    "            for init in init_counts:\n",
    "                i=self.Y_index[init]\n",
    "                self.transition_proba[indice_empty,indice_empty,i]=float(init_counts[init])/float(sum(init_counts.values()))\n",
    "                \n",
    "            for p in init_counts2:\n",
    "                old=self.Y_index[p[0]]\n",
    "                new=self.Y_index[p[1]]\n",
    "                self.transition_proba[indice_empty,old,new]=float(init_counts2[p])/float(init_counts[p[0]])\n",
    "        \n",
    "        def supervised_training(self, cpairs, ctrans, ctrans2 ,cinits, cinits2):\n",
    "            \"\"\" Train the HMM's parameters. This function wraps everything\"\"\"\n",
    "            self.observation_estimation(cpairs)\n",
    "            self.transition_estimation(ctrans,ctrans2)\n",
    "            self.init_estimation(cinits,cinits2)\n",
    "            #print ctags\n",
    "            self.solo = np.zeros( (self.N,), float ) \n",
    "            for tags in ctags:\n",
    "                self.solo[self.Y_index[tags]] = ctags[tags]\n",
    "            self.solo=self.solo/sum(self.solo)\n",
    "                \n",
    "        def get_trans(self,k,indi_2):\n",
    "            #indi_2 : vers nouvel etat\n",
    "            # k :ancien etat\n",
    "            return  self.transition_proba[k,indi_2]\n",
    "            '''index_old = self.Y_index[self.omega_Y_2[k][1]]\n",
    "            if self.transition_proba[k,indi_2] > 0.0:\n",
    "                return (1/3.0) * self.transition_proba[k,indi_2] + (1/3.0) * self.transition_proba2[index_old,indi_2]+  (1/3.0)  * self.solo[indi_2]\n",
    "            index_old = self.Y_index[self.omega_Y_2[k][1]]\n",
    "            return (1/2.0) *self.transition_proba2[index_old,indi_2] + (1/2.0) * self.solo[indi_2]'''\n",
    "        \n",
    "    \n",
    "        def find_indices(self,k):\n",
    "            if k == 0 or k==-1:\n",
    "                return set(['@'])\n",
    "            return self.omega_Y[0:26]\n",
    "        def viverbit(self,mots):\n",
    "            if len(mots) <=1:\n",
    "                return 0,mots\n",
    "            alpha = {(0,'@','@') : 1}\n",
    "            path_to = {('@','@') : []}\n",
    "            \n",
    "            \n",
    "            Y_index_2 = {}\n",
    "            count = 0 \n",
    "            for e in self.omega_Y:\n",
    "                for z in self.omega_Y:\n",
    "                    Y_index_2[(e,z)]= count\n",
    "                    count +=1\n",
    "            \n",
    "            alpha_2 = np.zeros((self.N+1,self.N+1,len(mots)+1))\n",
    "            path_to_2 = np.zeros((len(Y_index_2),len(mots)+1))\n",
    "            \n",
    "            for j in range(1,len(mots)+1):\n",
    "                temp_path = {}\n",
    "                index = 0\n",
    "                if j==0:\n",
    "                    index = self.X_index['@']\n",
    "                else:\n",
    "                    index = self.X_index[mots[j-1]]\n",
    "                indices = self.find_indices(j-1)\n",
    "                for i in indices:\n",
    "                    corr_indices = self.find_indices(j)\n",
    "                    indice_i = self.Y_index[i]\n",
    "                    for co in corr_indices:\n",
    "                        indice_j= self.Y_index[co]\n",
    "                        valeur_max = -10000000\n",
    "                        back = 0\n",
    "                        for t in self.find_indices(j-2):\n",
    "                            tmp = alpha[j-1,t,i] * self.transition_proba[self.Y_index[t],indice_i,indice_j] * self.observation_proba[index,indice_j]\n",
    "                            if tmp > valeur_max:\n",
    "                                valeur_max = tmp\n",
    "                                back = t\n",
    "                        alpha[j,i,co] = valeur_max\n",
    "                        alpha_2[self.Y_index[i],self.Y_index[co],j] = valeur_max\n",
    "                        temp_path[i,co] = path_to[back,i] + [co]\n",
    "                        path_to_2[Y_index_2[(i,co)],j] = self.Y_index[back]\n",
    "                path_to = temp_path\n",
    "            #backtrack\n",
    "            proba = np.max(alpha_2[:,:,len(mots)])\n",
    "            chemin_max = np.argmax(alpha_2[:,:,len(mots)])\n",
    "            i,co = Y_index_2.keys()[Y_index_2.values().index(chemin_max)]\n",
    "            return proba,path_to[i,co]\n",
    "                 \n",
    "        def evaluate(self,test_data):\n",
    "            errors = 0\n",
    "            total = 0\n",
    "            erreur_false = 0\n",
    "            total_false = 0\n",
    "            erreur_2 = 0\n",
    "            \n",
    "            correction = 0\n",
    "            correction_totale = 0\n",
    "            correction_ajout = 0\n",
    "            correction_totale_ajout = 0\n",
    "            for i in range(len(test_data)):\n",
    "                if i%100==0:\n",
    "                    print(\"Remaining : {}\".format(len(test_data)-i))\n",
    "                p,res = self.viverbit(map(operator.itemgetter(0), test_data[i]))\n",
    "                if sum([a!=b for a,b in test_data[i]])>0:\n",
    "                    total_false +=1 \n",
    "                    erreur_false += sum([a!=b[1] for a,b in zip(res,test_data[i])])\n",
    "                for a,b in zip(res,test_data[i]):\n",
    "                    if(b[1]!=b[0] and b[1] ==a):\n",
    "                        correction +=1\n",
    "                    if b[1] == '':\n",
    "                        correction_totale_ajout +=1\n",
    "                        if a == b[1]:\n",
    "                            correction_ajout += 1\n",
    "                    correction_totale +=1\n",
    "                erreur_2 += sum([a!=b for a,b in test_data[i]])\n",
    "                errors += sum([a!=b[1] for a,b in zip(res,test_data[i])])\n",
    "                total += len(res)\n",
    "            print(\"################# Resultats du HMM d'ordre 2 #################\")\n",
    "            print(\"Percentage of errors : {0:.2f}%\".format(((errors/float(total))*100.0)))\n",
    "            print(\"Taux d erreur brut : {0:.2f}%\".format(((erreur_2/float(total))*100.0)))\n",
    "            print(\"Taux de correction : {0:.2f}%\".format(((correction/float(correction_totale))*100.0)))\n",
    "            print(\"Nombre de corrections {} vs nombre de bonnes corrections {}\".format(correction_totale,correction))"
   ]
  },
  {
   "cell_type": "code",
   "execution_count": null,
   "metadata": {
    "collapsed": false
   },
   "outputs": [],
   "source": []
  },
  {
   "cell_type": "code",
   "execution_count": null,
   "metadata": {
    "collapsed": false
   },
   "outputs": [],
   "source": []
  },
  {
   "cell_type": "markdown",
   "metadata": {},
   "source": [
    "# Compter les mots et les tags"
   ]
  },
  {
   "cell_type": "code",
   "execution_count": 6,
   "metadata": {
    "collapsed": false
   },
   "outputs": [],
   "source": [
    "def make_counts(corpus):\n",
    "    \"\"\" \n",
    "    Build different count tables to train a HMM. Each count table is a dictionnary. \n",
    "    Returns: \n",
    "    * c_words: word counts\n",
    "    * c_tags: tag counts\n",
    "    * c_pairs: count of pairs (word,tag)\n",
    "    * c_transitions: count of tag bigram \n",
    "    * c_inits: count of tag found in the first position\n",
    "    \"\"\"\n",
    "    c_words = dict()\n",
    "    c_tags = dict()\n",
    "    c_pairs= dict()\n",
    "    c_transitions = dict()\n",
    "    c_transitions2 = dict()\n",
    "    c_inits = dict()\n",
    "    c_inits2 = dict()\n",
    "    for sent in corpus:\n",
    "        # we use i because of the transition counts\n",
    "        for i in range(len(sent)):\n",
    "            couple=sent[i]\n",
    "            wrd = couple[0]\n",
    "            tag = couple[1]\n",
    "            # word counts\n",
    "            if wrd in c_words:\n",
    "                c_words[wrd]=c_words[wrd]+1\n",
    "            else:\n",
    "                c_words[wrd]=1\n",
    "            # tag counts\n",
    "            if tag in c_tags:\n",
    "                c_tags[tag]=c_tags[tag]+1\n",
    "            else:\n",
    "                c_tags[tag]=1\n",
    "            # observation counts\n",
    "            if couple in c_pairs:\n",
    "                c_pairs[couple]=c_pairs[couple]+1\n",
    "            else:\n",
    "                c_pairs[couple]=1\n",
    "            # i >  0 -> transition counts\n",
    "            if i > 0:\n",
    "                trans = (sent[i-1][1],tag)\n",
    "                if trans in c_transitions2:\n",
    "                    c_transitions2[trans]=c_transitions2[trans]+1\n",
    "                else:\n",
    "                    c_transitions2[trans]=1\n",
    "            if i > 1:\n",
    "                trans = ((sent[i-2][1],sent[i-1][1]),tag)\n",
    "                if trans in c_transitions:\n",
    "                    c_transitions[trans]=c_transitions[trans]+1\n",
    "                else:\n",
    "                    c_transitions[trans]=1\n",
    "            # i == 0 -> counts for initial states\n",
    "            if i==0:\n",
    "                if tag in c_inits:\n",
    "                    c_inits[tag]=c_inits[tag]+1\n",
    "                else:\n",
    "                    c_inits[tag]=1\n",
    "            if i == 1:\n",
    "                cle = (sent[i-1][1],tag)\n",
    "                if cle in c_inits2:\n",
    "                    c_inits2[cle] +=1\n",
    "                else:\n",
    "                    c_inits2[cle]=1\n",
    "                    \n",
    "    return c_words,c_tags,c_pairs, c_transitions, c_inits, c_transitions2,c_inits2"
   ]
  },
  {
   "cell_type": "markdown",
   "metadata": {},
   "source": [
    "# Création du vocabulaire (filtrage selon le nombre d'occurence)"
   ]
  },
  {
   "cell_type": "code",
   "execution_count": 5,
   "metadata": {
    "collapsed": false
   },
   "outputs": [],
   "source": [
    "def make_vocab(c_words, threshold):\n",
    "    \"\"\" \n",
    "    return a vocabulary by thresholding word counts. \n",
    "    inputs: \n",
    "    * c_words : a dictionnary that maps word to its counts\n",
    "    * threshold: count must be >= to the threshold to be included\n",
    "    \n",
    "    returns: \n",
    "    * a word list\n",
    "    \"\"\"\n",
    "    voc = list()\n",
    "    for w in c_words:\n",
    "        if c_words[w] >= threshold:\n",
    "            voc.append(w)\n",
    "    return voc\n"
   ]
  },
  {
   "cell_type": "markdown",
   "metadata": {},
   "source": [
    "# les données\n"
   ]
  },
  {
   "cell_type": "code",
   "execution_count": 188,
   "metadata": {
    "collapsed": false
   },
   "outputs": [
    {
     "name": "stdout",
     "output_type": "stream",
     "text": [
      "Nombre de phrases de train = 29057\n",
      "Nombre de phrases de test  = 1501\n"
     ]
    }
   ],
   "source": [
    "import cPickle\n",
    "from pprint import pprint\n",
    "\n",
    "with open(\"typos-data/test10.pkl\", \"rb\") as input_file:\n",
    "    test = cPickle.load(input_file)\n",
    "    \n",
    "with open(\"typos-data/train10.pkl\", \"rb\") as input_file:\n",
    "    train = cPickle.load(input_file)\n",
    "print \"Nombre de phrases de train = \"+str(len(train))\n",
    "print \"Nombre de phrases de test  = \"+str(len(test))"
   ]
  },
  {
   "cell_type": "code",
   "execution_count": 152,
   "metadata": {
    "collapsed": false
   },
   "outputs": [
    {
     "name": "stdout",
     "output_type": "stream",
     "text": [
      "[('t', 't'), ('h', 'h'), ('e', 'e'), ('i', 'i'), ('r', 'r')]\n",
      "[('b', 'b'), ('y', 'y')]\n",
      "[[('b', 'b'), ('y', 'y')]\n",
      " [('t', 't'), ('h', 'h'), ('e', 'e'), ('i', 'i'), ('r', 'r')]\n",
      " [('o', 'o'), ('w', 'w'), ('n', 'n')] ...,\n",
      " [('u', 'u'), ('n', 'n'), ('p', 'p'), ('l', 'l'), ('r', 'e'), ('a', 'a'), ('w', 's'), ('a', 'a'), ('n', 'n'), ('t', 't')]\n",
      " [('b', 'b'), ('e', 'e'), ('j', 'h'), ('a', 'a'), ('v', 'v'), ('i', 'i'), ('o', 'o'), ('r', 'r')]\n",
      " [('b', 'b'), ('u', 'u'), ('t', 't')]]\n"
     ]
    }
   ],
   "source": [
    "print train[1]\n",
    "print test[0]\n",
    "\n",
    "print test"
   ]
  },
  {
   "cell_type": "code",
   "execution_count": 8,
   "metadata": {
    "collapsed": false
   },
   "outputs": [
    {
     "name": "stdout",
     "output_type": "stream",
     "text": [
      "Nombre de mots  : 26\n",
      "Nombre de tags  : 26\n",
      "Nombre de paires: 127\n",
      "Nombre de trans : 2489 / 144\n",
      "Nombre de init. : 25\n",
      "Vocabulaire :26\n"
     ]
    }
   ],
   "source": [
    "cwords,ctags,cpairs,ctrans,cinits, ctrans2,cinits2 = make_counts(train)\n",
    "print \"Nombre de mots  : \"+str(len(cwords))\n",
    "print \"Nombre de tags  : \"+str(len(ctags))\n",
    "print \"Nombre de paires: \"+str(len(cpairs))\n",
    "print \"Nombre de trans : \"+str(len(ctrans))+ \" / \"+ str(12*12)\n",
    "print \"Nombre de init. : \"+str(len(cinits))\n",
    "vocab = make_vocab(cwords,10)\n",
    "print \"Vocabulaire :\"+str(len(vocab))"
   ]
  },
  {
   "cell_type": "markdown",
   "metadata": {},
   "source": [
    "# Modification données pour prendre en compte l'ajout de caractère"
   ]
  },
  {
   "cell_type": "code",
   "execution_count": 191,
   "metadata": {
    "collapsed": false
   },
   "outputs": [],
   "source": [
    "import random\n",
    "from copy import deepcopy\n",
    "\n",
    "def remove_caracter2(data):\n",
    "    nb_word_train = len(data)\n",
    "    nb_modif = int(np.floor(0.1 * nb_word_train))\n",
    "    word_to_modify = random.sample(range(0, nb_word_train), nb_modif)\n",
    "    data_modify = deepcopy(data)\n",
    "    for i in word_to_modify:\n",
    "        word = deepcopy(data_modify[i])\n",
    "   \n",
    "        indice_remove = random.randint(0, len(word)-1)\n",
    "        \n",
    "        if indice_remove < len(word)-1 :\n",
    "            word2 = word[:indice_remove] #+ [('',word[indice_remove][1])] + word[indice_remove+1:]\n",
    "            #faire une boucle de decalage\n",
    "            j = indice_remove\n",
    "            while j < len(word)-1: #s'arrêter à l'avant dernier indice\n",
    "                word2 = word2 + [(word[j+1][1],word[j][1])]\n",
    "                j = j + 1\n",
    "            word2 = word2 + [('',word[j][1])]\n",
    "        else:   \n",
    "            word2 = word[:indice_remove] + [('',word[indice_remove][1])]\n",
    "        data_modify[i] = deepcopy(word2)\n",
    "    \n",
    "    # On ajoute un caractère vide à la fin des mots qui n'ont pas été modifié pour ne pas biaiser les tests\n",
    "    mots_restants = set(range(0,nb_word_train)) - set(list(word_to_modify))\n",
    "    for j in mots_restants:\n",
    "        data_modify[j][:] = data_modify[j][:] + [('', '')]\n",
    "            \n",
    "    return data_modify"
   ]
  },
  {
   "cell_type": "code",
   "execution_count": 192,
   "metadata": {
    "collapsed": false
   },
   "outputs": [],
   "source": [
    "train_modify = deepcopy(remove_caracter2(train))\n",
    "test_modify = deepcopy(remove_caracter2(test))"
   ]
  },
  {
   "cell_type": "code",
   "execution_count": 194,
   "metadata": {
    "collapsed": false
   },
   "outputs": [
    {
     "name": "stdout",
     "output_type": "stream",
     "text": [
      "[('p', 'l'), ('j', 'i'), ('b', 'b'), ('e', 'e'), ('r', 'r'), ('a', 'a'), ('t', 't'), ('i', 'i'), ('o', 'o'), ('n', 'n'), ('', '')]\n",
      "[('l', 'l'), ('e', 'e'), ('f', 'f'), ('t', 't'), ('i', 'i'), ('s', 's'), ('t', 't'), ('', '')]\n"
     ]
    }
   ],
   "source": [
    "print train_modify[11]\n",
    "print test_modify[1]"
   ]
  },
  {
   "cell_type": "code",
   "execution_count": 195,
   "metadata": {
    "collapsed": false
   },
   "outputs": [],
   "source": [
    "cwords,ctags,cpairs,ctrans,cinits, ctrans2,cinits2 = make_counts(train_modify)\n",
    "vocab = make_vocab(cwords,10)"
   ]
  },
  {
   "cell_type": "code",
   "execution_count": 199,
   "metadata": {
    "collapsed": false
   },
   "outputs": [],
   "source": [
    "hmm = HMM(state_list=ctags.keys(), observation_list=vocab,\n",
    "                 transition_proba = None,\n",
    "                 observation_proba = None,\n",
    "                 initial_state_proba = None,\n",
    "                  transition_proba_2 = None,\n",
    "                 smoothing_obs = 0.00)\n",
    "hmm.supervised_training( cpairs, ctrans, ctrans2 ,cinits, cinits2)"
   ]
  },
  {
   "cell_type": "code",
   "execution_count": 200,
   "metadata": {
    "collapsed": false
   },
   "outputs": [
    {
     "name": "stdout",
     "output_type": "stream",
     "text": [
      "Remaining : 1501\n",
      "Remaining : 1401\n",
      "Remaining : 1301\n",
      "Remaining : 1201\n",
      "Remaining : 1101\n",
      "Remaining : 1001\n",
      "Remaining : 901\n",
      "Remaining : 801\n",
      "Remaining : 701\n",
      "Remaining : 601\n",
      "Remaining : 501\n",
      "Remaining : 401\n",
      "Remaining : 301\n",
      "Remaining : 201\n",
      "Remaining : 101\n",
      "Remaining : 1\n",
      "################# Resultats du HMM d'ordre 2 #################\n",
      "Percentage of errors : 8.52%\n",
      "Taux d erreur brut : 12.70%\n",
      "Taux de correction : 5.88%\n",
      "Nombre de corrections 8671 vs nombre de bonnes corrections 510\n"
     ]
    }
   ],
   "source": [
    "hmm.evaluate(test_modify)"
   ]
  },
  {
   "cell_type": "code",
   "execution_count": null,
   "metadata": {
    "collapsed": true
   },
   "outputs": [],
   "source": [
    "\n",
    "'''\n",
    "(u'Some', u'DET'), (u'ten', u'NUM'), (u'years', u'NOUN'), (u'ago', u'ADV'), (u'that', u'DET'),\n",
    "(u'page', u'NOUN'), (u'was', u'VERB'), (u'torn', u'VERB'), (u'out', u'PRT'), (u',', u'.'), \n",
    "(u'I', u'PRON'), (u\"don't\", u'VERB'), (u'know', u'VERB'), (u'by', u'ADP'), (u'whom', u'PRON'), (u'.', u'.')]\n",
    "'''\n",
    "\n",
    "\n",
    "'''\n",
    "Projet : variable n est plus mot mais caractere\n",
    "observer un mot => sequence d etats la version correcte\n",
    "Xik = convluwion\n",
    "Yik = conclusion\n",
    "\n",
    "pour que ce soit plus dur => modele de second ordre\n",
    "\n",
    "donnees (bon char, mauvais char)\n",
    "\n",
    " deux version : 10 : 10% d erreurs\n",
    "                 20 : 20%  d erreurs\n",
    "                 \n",
    "3 points : hmm et biterdi : taux d erreurs du modele\n",
    "\n",
    "modele markov ordre deux : => proba  d un etat depend des deux etats precedents P(Yt|Yt-1,Yt2)\n",
    "\n",
    "dans viberti : on propage (dans delta) la proba du meilleur chemin pour arriver a un instant t dans un etat donne\n",
    "=> quand rempli t on peut remplir t+1 (par hypothese) markov d ordre 1 => donc a ordre 2 il faut faire changement de varibale\n",
    "besoin de garder la trace de tout ce qui est contionnement (Yt garde trace de ce qui est en t-1 et t-2 )\n",
    "taille devient s² => delta de taille (K*N^2)\n",
    "\n",
    "3 novembre : finir partie 1\n",
    "'''"
   ]
  }
 ],
 "metadata": {
  "anaconda-cloud": {},
  "kernelspec": {
   "display_name": "Python 2",
   "language": "python",
   "name": "python2"
  },
  "language_info": {
   "codemirror_mode": {
    "name": "ipython",
    "version": 2
   },
   "file_extension": ".py",
   "mimetype": "text/x-python",
   "name": "python",
   "nbconvert_exporter": "python",
   "pygments_lexer": "ipython2",
   "version": "2.7.12"
  }
 },
 "nbformat": 4,
 "nbformat_minor": 0
}
