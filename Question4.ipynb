{
 "cells": [
  {
   "cell_type": "markdown",
   "metadata": {},
   "source": [
    "# Fast implementation of levenshtein distance\n",
    "* Approximation rapide de levenshtein distance\n",
    "* Se base sur l'algorithme de norvig"
   ]
  },
  {
   "cell_type": "code",
   "execution_count": 1,
   "metadata": {
    "collapsed": false
   },
   "outputs": [],
   "source": [
    "import re\n",
    "from collections import Counter\n",
    "import cPickle\n",
    "import operator"
   ]
  },
  {
   "cell_type": "code",
   "execution_count": 2,
   "metadata": {
    "collapsed": false
   },
   "outputs": [],
   "source": [
    "#charge le corpus\n",
    "corpus = file('data/big.txt').read()\n",
    "all_words = file('data/words.txt.1').read()\n",
    "alphabet = 'abcdefghijklmnopqrstuvwxyz'"
   ]
  },
  {
   "cell_type": "markdown",
   "metadata": {},
   "source": [
    "# Extraction des mots"
   ]
  },
  {
   "cell_type": "code",
   "execution_count": 3,
   "metadata": {
    "collapsed": false
   },
   "outputs": [
    {
     "name": "stdout",
     "output_type": "stream",
     "text": [
      "('Nombre de mots differents : ', 1356950)\n"
     ]
    }
   ],
   "source": [
    "def find_all_words(text):\n",
    "    text = text.replace(\"\\n\",\"\")\n",
    "    text.replace(\"\\t\",\" \")\n",
    "    mots = [a.lower() for a in text.split(\" \") if len(a)>0]\n",
    "    return mots\n",
    "def find_all_words2(text):\n",
    "    mots = [a.lower() for a in text.split(\"\\n\")]\n",
    "    return mots\n",
    "\n",
    "mots = find_all_words(corpus) + find_all_words2(all_words)\n",
    "counted_words = Counter(mots)\n",
    "print(\"Nombre de mots differents : \",sum(counted_words.values()))"
   ]
  },
  {
   "cell_type": "markdown",
   "metadata": {},
   "source": [
    "# Algorithme\n",
    "* Calcule la correction d'un mot\n",
    "* Gere les erreurs d'insertion, de deletion et de changement\n",
    "* Calcule la distance entre deux mots\n",
    "* Calcule a une distance de deux maximum\n",
    "(cf rapport)"
   ]
  },
  {
   "cell_type": "code",
   "execution_count": 4,
   "metadata": {
    "collapsed": false
   },
   "outputs": [],
   "source": [
    "def in_dict(list_mots):\n",
    "    #verifie si un mot a deja ete vu\n",
    "    return {w for w in list_mots if w in counted_words}\n",
    "\n",
    "#gere les suppresions, par exemple : test -> tet\n",
    "def deletions(word):\n",
    "    return [word[:i] + word[i+1:] for i in range(len(word))]\n",
    "\n",
    "#gere les remplacements, par exemple : \n",
    "# test -> tast\n",
    "def remplacements(word):\n",
    "    return [word[:i] + k + word[i+1:] for k in alphabet for i in range(len(word))]\n",
    "\n",
    "#gere les insertions par exemple : test -> teast\n",
    "def insertions(word):\n",
    "    return [word[:i] + c +word[i:] for c in alphabet for i in range(len(word)+1)]\n",
    "\n",
    "#gere la transpositions de caracteres\n",
    "def transpoitions(word):\n",
    "    return [a+b[1]+b[0]+b[2:] for (a, b) in [(word[:i], word[i:]) for i in range(len(word)+1)] if len(b) > 1]\n",
    "\n",
    "#genere tous les mots possibles a une distance de 1\n",
    "def distance_one(word):\n",
    "    return set(remplacements(word)+ transpoitions(word) + insertions(word) + deletions(word))\n",
    "\n",
    "#cherche les candidats en generant toutes les erreurs possibles\n",
    "#et en cherchant les mots ayant le plus de similarites\n",
    "def find_candidates(mot,edit_distance = 2):\n",
    "    candidates = []\n",
    "    #distance de 0 : mot lui meme\n",
    "    candidates = in_dict({mot})\n",
    "    #mots a une distance d'edition de 1\n",
    "    if len(candidates)==0:\n",
    "        candidates = {w for w in distance_one(mot) if w in counted_words}\n",
    "    if len(candidates)==0:\n",
    "        motif = [new_w for m in distance_one(mot) for new_w in distance_one(m)]\n",
    "        candidates = {w for w in motif if w in counted_words}\n",
    "    candidates = set(candidates)\n",
    "    if len(candidates)==0:\n",
    "        return mot\n",
    "    return max(candidates, key=counted_words.get)"
   ]
  },
  {
   "cell_type": "markdown",
   "metadata": {},
   "source": [
    "# Test sur nos donnees\n",
    "* Fonctionne sur des phrases entières"
   ]
  },
  {
   "cell_type": "markdown",
   "metadata": {},
   "source": [
    "# Calcul des ngrams"
   ]
  },
  {
   "cell_type": "code",
   "execution_count": 5,
   "metadata": {
    "collapsed": false
   },
   "outputs": [
    {
     "name": "stdout",
     "output_type": "stream",
     "text": [
      "[('test', 1.0), ('test,', 0.6666666666666666), ('test.', 0.6666666666666666), ('tests', 0.6666666666666666), ('testy', 0.6666666666666666), ('testa', 0.6666666666666666), ('teste', 0.6666666666666666), ('testes', 0.6666666666666666), ('gestes', 0.5), ('testis', 0.5)]\n"
     ]
    }
   ],
   "source": [
    "#calcul des bigrams:\n",
    "def ngrams(mot, n):\n",
    "    output = []\n",
    "    for i in range(len(mot)-n+1):\n",
    "        output.append(mot[i:i+n])\n",
    "    return output\n",
    "\n",
    "bigrams = {x.lower():ngrams(x.lower(),2) for x in counted_words.keys()}\n",
    "trigrams = {x.lower():ngrams(x.lower(),3) for x in counted_words.keys()}\n",
    "quadrugrams = {x.lower():ngrams(x.lower(),4) for x in counted_words.keys()}\n",
    "\n",
    "def jaccard_distance(x,y):\n",
    "    intersection_cardinality = len(set.intersection(*[set(x), set(y)]))\n",
    "    union_cardinality = len(set.union(*[set(x), set(y)]))\n",
    "    return intersection_cardinality/float(union_cardinality)\n",
    "\n",
    "def brute_force_find(mot):\n",
    "    bigram_mot = ngrams(mot,3)\n",
    "    res = {}\n",
    "    for e in trigrams:\n",
    "        res[e] = jaccard_distance(bigram_mot,trigrams[e])\n",
    "    sorted_res = sorted(res.items(), key=operator.itemgetter(1),reverse=True)\n",
    "    print(sorted_res[:10])\n",
    "brute_force_find(\"test\")  "
   ]
  },
  {
   "cell_type": "markdown",
   "metadata": {},
   "source": [
    "# Calcule des similarités"
   ]
  },
  {
   "cell_type": "code",
   "execution_count": 7,
   "metadata": {
    "collapsed": false
   },
   "outputs": [
    {
     "name": "stdout",
     "output_type": "stream",
     "text": [
      " Taux d'erreurs : 4.3306010929% \n",
      " Nombre d'erreurs :317 \n",
      " Nombre de tests : 1501 \n",
      " Nombre d'erreurs ayant une distance d'édition >2 : 174 \n"
     ]
    }
   ],
   "source": [
    "#les tests\n",
    "with open(\"typos-data/test10.pkl\", \"rb\") as input_file:\n",
    "    test = cPickle.load(input_file)\n",
    "#les donnes d'entrainement    \n",
    "with open(\"typos-data/train20.pkl\", \"rb\") as input_file:\n",
    "    train = cPickle.load(input_file)\n",
    "errors= 0\n",
    "total = 0\n",
    "nb_errors_hard = 0\n",
    "#des erreurs que le hmm d'ordre 2 n'arrive pas a traiter\n",
    "hard = [\"reeljhgs\",\"vakhavle\",\"cillectivism\",\"maaochistic\",\"lertusts\",\"pfoyesr\",\"masochixtic\",\"ofersocialkzed\",\"pwfrixt\",\"sctiviwts\",\"empyiomap\",\"frudyrarwd\",\"leftustx\"]\n",
    "#sur l'ensemble de test\n",
    "for t in test:\n",
    "    to_decod = \"\".join([a[0] for a in t])\n",
    "    etiquette = [a[1] for a in t]\n",
    "    if len(to_decod)>0:\n",
    "        solution = find_candidates(to_decod)\n",
    "        errors += sum([a!=b for a,b in zip(solution,etiquette)])\n",
    "        if sum([a!=b for a,b in zip(solution,etiquette)])>0:\n",
    "            nb_errors_hard+=1\n",
    "    total += len(etiquette)\n",
    "print(\" Taux d'erreurs : {}% \\n Nombre d'erreurs :{} \\n Nombre de tests : {} \\n Nombre d'erreurs ayant une distance d'édition >2 : {} \".format((errors/float(total))*100.0, errors,len(test),nb_errors_hard))\n",
    "    \n"
   ]
  }
 ],
 "metadata": {
  "kernelspec": {
   "display_name": "Python 2",
   "language": "python",
   "name": "python2"
  },
  "language_info": {
   "codemirror_mode": {
    "name": "ipython",
    "version": 2
   },
   "file_extension": ".py",
   "mimetype": "text/x-python",
   "name": "python",
   "nbconvert_exporter": "python",
   "pygments_lexer": "ipython2",
   "version": "2.7.12"
  }
 },
 "nbformat": 4,
 "nbformat_minor": 1
}
